{
 "cells": [
  {
   "cell_type": "code",
   "execution_count": null,
   "metadata": {},
   "outputs": [],
   "source": [
    "import torch\n",
    "from torch.utils.data import DataLoader\n",
    "import torch.nn.functional as F\n",
    "from torchaudio import datasets, transforms\n",
    "\n",
    "from dataset import collate_fn_fixed\n",
    "from models import DSVAE"
   ]
  },
  {
   "cell_type": "code",
   "execution_count": null,
   "metadata": {},
   "outputs": [],
   "source": [
    "resampler = transforms.Resample(orig_freq=48000, new_freq=16000)"
   ]
  },
  {
   "cell_type": "code",
   "execution_count": null,
   "metadata": {},
   "outputs": [],
   "source": [
    "def kld_with_any(mean_c, logvar_c, mean_wav, var_wav):\n",
    "    return 0.5 * (\n",
    "        torch.log(var_wav / logvar_c)\n",
    "        + (logvar_c + (mean_c - mean_wav) ** 2) / var_wav\n",
    "        - 1\n",
    "    )\n",
    "\n",
    "\n",
    "def kld_with_normal(mean, logvar):\n",
    "    return -0.5 * torch.sum(1 + logvar - mean.pow(2) - logvar.exp())\n",
    "\n",
    "\n",
    "def recon_loss(x, recon_x):\n",
    "    return F.mse_loss(recon_x, x)\n",
    "\n",
    "\n",
    "def loss_function(x, recon_x, mean_s, logvar_s, mean_c, logvar_c):\n",
    "    return (\n",
    "        recon_loss(x, recon_x)\n",
    "        + kld_with_normal(mean_s, logvar_s)\n",
    "        + kld_with_any(mean_c, logvar_c)\n",
    "    )"
   ]
  },
  {
   "cell_type": "code",
   "execution_count": null,
   "metadata": {},
   "outputs": [],
   "source": [
    "train_data = datasets.VCTK_092(\"./\", download=True)\n",
    "fixed_length = 794730\n",
    "train_data_loader = DataLoader(\n",
    "    train_data,\n",
    "    batch_size=128,\n",
    "    collate_fn=lambda batch: collate_fn_fixed(batch, fixed_length=fixed_length),\n",
    "    shuffle=True,\n",
    ")"
   ]
  },
  {
   "cell_type": "code",
   "execution_count": null,
   "metadata": {},
   "outputs": [],
   "source": [
    "model = DSVAE()\n",
    "optimizer = torch.optim.Adam(model.parameters(), lr=1e-3)\n",
    "epochs = 100\n",
    "losses = []"
   ]
  },
  {
   "cell_type": "code",
   "execution_count": null,
   "metadata": {},
   "outputs": [
    {
     "name": "stdout",
     "output_type": "stream",
     "text": [
      "1\n",
      "2\n"
     ]
    },
    {
     "ename": "",
     "evalue": "",
     "output_type": "error",
     "traceback": [
      "\u001b[1;31mThe Kernel crashed while executing code in the current cell or a previous cell. \n",
      "\u001b[1;31mPlease review the code in the cell(s) to identify a possible cause of the failure. \n",
      "\u001b[1;31mClick <a href='https://aka.ms/vscodeJupyterKernelCrash'>here</a> for more info. \n",
      "\u001b[1;31mView Jupyter <a href='command:jupyter.viewOutput'>log</a> for further details."
     ]
    }
   ],
   "source": [
    "for epoch in range(epochs):\n",
    "    model.train()\n",
    "    train_loss = 0\n",
    "\n",
    "    for x, _ in train_data_loader:\n",
    "        x = x.unsqueeze(1)\n",
    "        x_resampled = resampler(x)\n",
    "        optimizer.zero_grad()\n",
    "\n",
    "        recon_x, mean_s, logvar_s, mean_c, logvar_c = model(x_resampled)\n",
    "        loss = loss_function(x_resampled, recon_x, mean_s, logvar_s, mean_c, logvar_c)\n",
    "        loss.backward()\n",
    "\n",
    "        train_loss += loss.item()\n",
    "        optimizer.step()\n",
    "\n",
    "    avg = train_loss / len(train_data_loader.dataset)\n",
    "    losses.append(avg)\n",
    "\n",
    "    print(f\"Epoch {epoch+1}, Loss: {avg:.4f}\")\n",
    "\n",
    "print(\"Done!\")"
   ]
  },
  {
   "cell_type": "code",
   "execution_count": null,
   "metadata": {},
   "outputs": [],
   "source": []
  }
 ],
 "metadata": {
  "kernelspec": {
   "display_name": "dsvae-PfP47jFl-py3.12",
   "language": "python",
   "name": "python3"
  },
  "language_info": {
   "codemirror_mode": {
    "name": "ipython",
    "version": 3
   },
   "file_extension": ".py",
   "mimetype": "text/x-python",
   "name": "python",
   "nbconvert_exporter": "python",
   "pygments_lexer": "ipython3",
   "version": "3.12.7"
  }
 },
 "nbformat": 4,
 "nbformat_minor": 2
}
