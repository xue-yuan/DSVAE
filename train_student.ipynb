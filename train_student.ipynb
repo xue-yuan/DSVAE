{
 "cells": [
  {
   "cell_type": "code",
   "execution_count": null,
   "metadata": {},
   "outputs": [],
   "source": [
    "import matplotlib.pyplot as plt\n",
    "import torch\n",
    "import torch.nn.functional as F\n",
    "from torch.utils.data import DataLoader, RandomSampler\n",
    "from torchaudio import datasets\n",
    "\n",
    "from loader import collate_function\n",
    "from teacherstudent.models import StudentDSVAE1, StudentDSVAE2"
   ]
  },
  {
   "cell_type": "code",
   "execution_count": null,
   "metadata": {},
   "outputs": [],
   "source": [
    "has_mps = torch.backends.mps.is_built()\n",
    "device = \"mps\" if has_mps else \"cuda\" if torch.cuda.is_available() else \"cpu\"\n",
    "print(f\"Using device {device}\")\n",
    "torch.mps.empty_cache()"
   ]
  },
  {
   "cell_type": "code",
   "execution_count": null,
   "metadata": {},
   "outputs": [],
   "source": [
    "def kld_with_any(mean_c, logvar_c, mean_wav, var_wav):\n",
    "    return 0.5 * (\n",
    "        torch.log(var_wav / logvar_c)\n",
    "        + (logvar_c + (mean_c - mean_wav) ** 2) / var_wav\n",
    "        - 1\n",
    "    )\n",
    "\n",
    "\n",
    "def kld_with_normal(mean, logvar):\n",
    "    return -0.5 * torch.sum(1 + logvar - mean.pow(2) - logvar.exp())\n",
    "\n",
    "\n",
    "def recon_loss(x, recon_x):\n",
    "    return F.mse_loss(recon_x, x)\n",
    "\n",
    "\n",
    "def loss_function(x, recon_x, mean_s, logvar_s, mean_c, logvar_c):\n",
    "    return (\n",
    "        recon_loss(x, recon_x)\n",
    "        + kld_with_normal(mean_s, logvar_s)\n",
    "        + kld_with_normal(mean_c, logvar_c)\n",
    "    )"
   ]
  },
  {
   "cell_type": "code",
   "execution_count": null,
   "metadata": {},
   "outputs": [],
   "source": [
    "train_data = datasets.VCTK_092(\"./\", download=True)\n",
    "train_data_loader = DataLoader(\n",
    "    train_data,\n",
    "    batch_size=2,\n",
    "    collate_fn=lambda batch: collate_function(batch),\n",
    "    sampler=RandomSampler(train_data, num_samples=400)\n",
    ")"
   ]
  },
  {
   "cell_type": "code",
   "execution_count": null,
   "metadata": {},
   "outputs": [],
   "source": [
    "model = StudentDSVAE1()\n",
    "model.to(device)\n",
    "optimizer = torch.optim.Adam(model.parameters(), lr=1e-3)\n",
    "epochs = 2\n",
    "losses = []"
   ]
  },
  {
   "cell_type": "code",
   "execution_count": null,
   "metadata": {},
   "outputs": [],
   "source": [
    "torch.mps.empty_cache()\n",
    "for epoch in range(epochs):\n",
    "    model.train()\n",
    "    train_loss = 0\n",
    "\n",
    "    for batch_idx, (x, _) in enumerate(train_data_loader):\n",
    "        x = x.to(device)\n",
    "        optimizer.zero_grad()\n",
    "\n",
    "        recon_x, mean_s, logvar_s, mean_c, logvar_c = model(x)\n",
    "        loss = loss_function(x, recon_x, mean_s, logvar_s, mean_c, logvar_c)\n",
    "        loss.backward()\n",
    "\n",
    "        train_loss += loss.item()\n",
    "        optimizer.step()\n",
    "        print(f\"Epoch {epoch + 1}, Batch {batch_idx + 1}/{len(train_data_loader)}, Loss {loss.item():.4f}\")\n",
    "\n",
    "    avg = train_loss / len(train_data_loader)\n",
    "    losses.append(avg)\n",
    "\n",
    "    print(f\"Epoch {epoch+1}, Loss: {avg:.4f}\")\n",
    "\n",
    "print(\"Done!\")"
   ]
  },
  {
   "cell_type": "code",
   "execution_count": null,
   "metadata": {},
   "outputs": [],
   "source": []
  },
  {
   "cell_type": "code",
   "execution_count": null,
   "metadata": {},
   "outputs": [],
   "source": []
  }
 ],
 "metadata": {
  "kernelspec": {
   "display_name": "dsvae-PfP47jFl-py3.12",
   "language": "python",
   "name": "python3"
  },
  "language_info": {
   "codemirror_mode": {
    "name": "ipython",
    "version": 3
   },
   "file_extension": ".py",
   "mimetype": "text/x-python",
   "name": "python",
   "nbconvert_exporter": "python",
   "pygments_lexer": "ipython3",
   "version": "3.12.8"
  }
 },
 "nbformat": 4,
 "nbformat_minor": 2
}
